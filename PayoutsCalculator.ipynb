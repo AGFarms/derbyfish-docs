{
 "cells": [
  {
   "cell_type": "code",
   "execution_count": 1,
   "id": "da2d91f3-64ee-48dc-9daa-0adbbf4b992b",
   "metadata": {},
   "outputs": [],
   "source": [
    "import numpy as np\n",
    "import matplotlib.pyplot as plt"
   ]
  },
  {
   "cell_type": "code",
   "execution_count": 3,
   "id": "207305a9-d07c-4a86-8134-31f0416f5174",
   "metadata": {},
   "outputs": [],
   "source": [
    "def x(n):\n",
    "    return np.arange(0,n,1,dtype=int)\n",
    "def f(x,k):\n",
    "    return np.exp(-k*x)"
   ]
  },
  {
   "cell_type": "code",
   "execution_count": 28,
   "id": "1aa5b0e9-06cc-459e-bf9f-6634cea4c2f0",
   "metadata": {},
   "outputs": [],
   "source": [
    "n=26\n",
    "k=.3"
   ]
  },
  {
   "cell_type": "code",
   "execution_count": 29,
   "id": "8954fad8-d99a-4e6e-b8ee-87243d39c459",
   "metadata": {},
   "outputs": [
    {
     "data": {
      "text/plain": [
       "[<matplotlib.lines.Line2D at 0x7a283d37f610>]"
      ]
     },
     "execution_count": 29,
     "metadata": {},
     "output_type": "execute_result"
    },
    {
     "data": {
      "image/png": "[encoded data removed]",
      "text/plain": [
       "<Figure size 640x480 with 1 Axes>"
      ]
     },
     "metadata": {},
     "output_type": "display_data"
    }
   ],
   "source": [
    "plt.plot(x(n), f(x(n),k))"
   ]
  },
  {
   "cell_type": "code",
   "execution_count": 30,
   "id": "812040d3-3e3c-4b8e-945c-a846c0bef295",
   "metadata": {},
   "outputs": [],
   "source": [
    "n_payouts = [2,5,8,10,15,25]\n",
    "payouts = {}\n",
    "for p in n_payouts:\n",
    "    p_sum = -1\n",
    "    payouts[p] = []\n",
    "    for i in range (p+1):\n",
    "        payouts[p].append(f(i,k))\n",
    "        p_sum += f(i,k)\n",
    "    payouts[p].pop(0)\n",
    "    payouts[p] = payouts[p]/p_sum"
   ]
  },
  {
   "cell_type": "code",
   "execution_count": 31,
   "id": "30426f92-9610-4b7e-954d-95a811ecf872",
   "metadata": {},
   "outputs": [
    {
     "name": "stdout",
     "output_type": "stream",
     "text": [
      "#1 0.574442516811659\n",
      "#2 0.42555748318834097\n",
      "\n",
      "\n",
      "#1 0.33362317086193194\n",
      "#2 0.24715412381612914\n",
      "#3 0.18309627823961383\n",
      "#4 0.13564105905891546\n",
      "#5 0.10048536802340953\n",
      "\n",
      "\n",
      "#1 0.28504002719056903\n",
      "#2 0.2111628457663858\n",
      "#3 0.156433283674742\n",
      "#4 0.11588862686732078\n",
      "#5 0.08585240635309609\n",
      "#6 0.06360102691574447\n",
      "#7 0.04711679959325185\n",
      "#8 0.03490498363888993\n",
      "\n",
      "\n",
      "#1 0.27276178916350646\n",
      "#2 0.20206690331807073\n",
      "#3 0.1496948437747579\n",
      "#4 0.11089666781044388\n",
      "#5 0.08215427212686456\n",
      "#6 0.06086138169842546\n",
      "#7 0.04508722049805841\n",
      "#8 0.03340143446485591\n",
      "#9 0.02474439124847157\n",
      "#10 0.018331095896544976\n",
      "\n",
      "\n",
      "#1 0.262093373699405\n",
      "#2 0.19416354675646175\n",
      "#3 0.14383989322937354\n",
      "#4 0.1065592137652328\n",
      "#5 0.07894100713880256\n",
      "#6 0.05848093644739051\n",
      "#7 0.043323743282756455\n",
      "#8 0.03209501841200317\n",
      "#9 0.023776574432727165\n",
      "#10 0.017614119565159358\n",
      "#11 0.013048860715136393\n",
      "#12 0.009666833776910912\n",
      "#13 0.007161366598237071\n",
      "#14 0.005305270860955472\n",
      "#15 0.003930241319447599\n",
      "\n",
      "\n",
      "#1 0.25932520803763304\n",
      "#2 0.19211283919635558\n",
      "#3 0.14232069170355716\n",
      "#4 0.10543376159402054\n",
      "#5 0.07810725166386273\n",
      "#6 0.05786327519996194\n",
      "#7 0.042866168576452375\n",
      "#8 0.03175603873225002\n",
      "#9 0.02352545210952518\n",
      "#10 0.017428083572511403\n",
      "#11 0.012911041862080178\n",
      "#12 0.009564735059413411\n",
      "#13 0.0070857300080066875\n",
      "#14 0.0052492378967625665\n",
      "#15 0.0038887310786146884\n",
      "#16 0.0028808428383690315\n",
      "#17 0.002134180865584216\n",
      "#18 0.0015810400714550677\n",
      "#19 0.0011712632925618385\n",
      "#20 0.0008676931883454717\n",
      "#21 0.0006428029238877391\n",
      "#22 0.0004762001183235207\n",
      "#23 0.0003527777243448542\n",
      "#24 0.00026134416604530044\n",
      "#25 0.00019360852007522681\n",
      "\n",
      "\n"
     ]
    }
   ],
   "source": [
    "for n in n_payouts:\n",
    "    for p in range(len(payouts[n])):\n",
    "        print(f\"#{p+1}\", payouts[n][p],)\n",
    "    print(\"\\n\")"
   ]
  },
  {
   "cell_type": "code",
   "execution_count": 71,
   "id": "7e8fd009-ed8e-46f3-a4df-8865731225f3",
   "metadata": {},
   "outputs": [],
   "source": [
    "def payout_distribution(total_payout, n_total_places, fixed_places=None, k=1.0):\n",
    "    if fixed_places is None: \n",
    "        fixed_places = {}\n",
    "    remaining_places = n_total_places - len(fixed_places)\n",
    "    exp_values = np.exp(-k * np.linspace(0, 3, remaining_places))\n",
    "    exp_values *= (1 - sum(fixed_places.values())) / sum(exp_values) if remaining_places > 0 else 1\n",
    "    values = []\n",
    "    exp_index = 0\n",
    "    for i in range(1, n_total_places + 1):\n",
    "        if i in fixed_places:\n",
    "            values.append(fixed_places[i])\n",
    "        else:\n",
    "            values.append(exp_values[exp_index])\n",
    "            exp_index += 1\n",
    "    return [v * total_payout for v in values]"
   ]
  },
  {
   "cell_type": "code",
   "execution_count": 84,
   "id": "b819a27b-f5f0-4fce-a1f1-cbcfb0758e57",
   "metadata": {},
   "outputs": [],
   "source": [
    "total_payout = 1.0\n",
    "n_total_places = 25\n",
    "fixed_places = { 16: 0.01, 17: 0.01, 18: 0.01, 19: 0.01, 20: 0.005, 21: 0.005, 22: 0.005, 23: 0.005, 24: 0.005, 25: 0.005}\n",
    "k = .9"
   ]
  },
  {
   "cell_type": "code",
   "execution_count": 85,
   "id": "44bec0db-94ae-4a7b-8edd-b19d6861d9a9",
   "metadata": {},
   "outputs": [
    {
     "name": "stdout",
     "output_type": "stream",
     "text": [
      "#1 0.173\n",
      "#2 0.142\n",
      "#3 0.117\n",
      "#4 0.097\n",
      "#5 0.080\n",
      "#6 0.066\n",
      "#7 0.054\n",
      "#8 0.045\n",
      "#9 0.037\n",
      "#10 0.030\n",
      "#11 0.025\n",
      "#12 0.021\n",
      "#13 0.017\n",
      "#14 0.014\n",
      "#15 0.012\n",
      "#16 0.010\n",
      "#17 0.010\n",
      "#18 0.010\n",
      "#19 0.010\n",
      "#20 0.005\n",
      "#21 0.005\n",
      "#22 0.005\n",
      "#23 0.005\n",
      "#24 0.005\n",
      "#25 0.005\n"
     ]
    }
   ],
   "source": [
    "payout_list = payout_distribution(total_payout, n_total_places, fixed_places, k)\n",
    "for p in range(len(payout_list)):\n",
    "    print(f\"#{p+1} {payout_list[p]:.3f}\")\n"
   ]
  }
 ],
 "metadata": {
  "kernelspec": {
   "display_name": "Python 3 (ipykernel)",
   "language": "python",
   "name": "python3"
  },
  "language_info": {
   "codemirror_mode": {
    "name": "ipython",
    "version": 3
   },
   "file_extension": ".py",
   "mimetype": "text/x-python",
   "name": "python",
   "nbconvert_exporter": "python",
   "pygments_lexer": "ipython3",
   "version": "3.13.1"
  }
 },
 "nbformat": 4,
 "nbformat_minor": 5
}
